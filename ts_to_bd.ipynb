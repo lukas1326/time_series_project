{
 "cells": [
  {
   "cell_type": "code",
   "execution_count": 1,
   "metadata": {},
   "outputs": [],
   "source": [
    "import pandas as pd\n",
    "import sqlite3\n",
    "from sqlalchemy import create_engine"
   ]
  },
  {
   "cell_type": "code",
   "execution_count": 2,
   "metadata": {},
   "outputs": [
    {
     "name": "stdout",
     "output_type": "stream",
     "text": [
      "2021-06-27 22:51:27,323 INFO sqlalchemy.engine.base.Engine SELECT CAST('test plain returns' AS VARCHAR(60)) AS anon_1\n",
      "2021-06-27 22:51:27,323 INFO sqlalchemy.engine.base.Engine ()\n",
      "2021-06-27 22:51:27,332 INFO sqlalchemy.engine.base.Engine SELECT CAST('test unicode returns' AS VARCHAR(60)) AS anon_1\n",
      "2021-06-27 22:51:27,332 INFO sqlalchemy.engine.base.Engine ()\n"
     ]
    }
   ],
   "source": [
    "engine = create_engine('sqlite:///ts.sqlite3', echo=True)\n",
    "sqlite_connection = engine.connect()"
   ]
  },
  {
   "cell_type": "code",
   "execution_count": 3,
   "metadata": {},
   "outputs": [
    {
     "name": "stdout",
     "output_type": "stream",
     "text": [
      "2021-06-27 22:51:27,348 INFO sqlalchemy.engine.base.Engine SELECT name FROM sqlite_master WHERE type='table' ORDER BY name\n",
      "2021-06-27 22:51:27,356 INFO sqlalchemy.engine.base.Engine ()\n",
      "['ts1', 'ts_pred']\n"
     ]
    }
   ],
   "source": [
    "from sqlalchemy import inspect\n",
    "inspector = inspect(engine)\n",
    "\n",
    "# Get table information\n",
    "print(inspector.get_table_names())"
   ]
  },
  {
   "cell_type": "code",
   "execution_count": 4,
   "metadata": {
    "scrolled": true
   },
   "outputs": [
    {
     "name": "stdout",
     "output_type": "stream",
     "text": [
      "2021-06-27 22:51:27,372 INFO sqlalchemy.engine.base.Engine PRAGMA main.table_xinfo(\"ts1\")\n",
      "2021-06-27 22:51:27,375 INFO sqlalchemy.engine.base.Engine ()\n",
      "[{'name': 'index', 'type': BIGINT(), 'nullable': True, 'default': None, 'autoincrement': 'auto', 'primary_key': 0}, {'name': 'time', 'type': DATETIME(), 'nullable': True, 'default': None, 'autoincrement': 'auto', 'primary_key': 0}]\n"
     ]
    }
   ],
   "source": [
    "# Get column information\n",
    "print(inspector.get_columns('ts1'))"
   ]
  },
  {
   "cell_type": "code",
   "execution_count": 5,
   "metadata": {},
   "outputs": [
    {
     "name": "stdout",
     "output_type": "stream",
     "text": [
      "2021-06-27 22:51:27,393 INFO sqlalchemy.engine.base.OptionEngine SELECT * from ts1\n",
      "2021-06-27 22:51:27,393 INFO sqlalchemy.engine.base.OptionEngine ()\n"
     ]
    },
    {
     "data": {
      "text/html": [
       "<div>\n",
       "<style scoped>\n",
       "    .dataframe tbody tr th:only-of-type {\n",
       "        vertical-align: middle;\n",
       "    }\n",
       "\n",
       "    .dataframe tbody tr th {\n",
       "        vertical-align: top;\n",
       "    }\n",
       "\n",
       "    .dataframe thead th {\n",
       "        text-align: right;\n",
       "    }\n",
       "</style>\n",
       "<table border=\"1\" class=\"dataframe\">\n",
       "  <thead>\n",
       "    <tr style=\"text-align: right;\">\n",
       "      <th></th>\n",
       "      <th>index</th>\n",
       "      <th>time</th>\n",
       "    </tr>\n",
       "  </thead>\n",
       "  <tbody>\n",
       "    <tr>\n",
       "      <th>0</th>\n",
       "      <td>0</td>\n",
       "      <td>2017-10-15 00:00:00.000000</td>\n",
       "    </tr>\n",
       "    <tr>\n",
       "      <th>1</th>\n",
       "      <td>1</td>\n",
       "      <td>2017-10-07 00:00:00.000000</td>\n",
       "    </tr>\n",
       "    <tr>\n",
       "      <th>2</th>\n",
       "      <td>2</td>\n",
       "      <td>2017-08-20 00:00:00.000000</td>\n",
       "    </tr>\n",
       "    <tr>\n",
       "      <th>3</th>\n",
       "      <td>3</td>\n",
       "      <td>2017-03-31 00:00:00.000000</td>\n",
       "    </tr>\n",
       "    <tr>\n",
       "      <th>4</th>\n",
       "      <td>4</td>\n",
       "      <td>2017-03-05 00:00:00.000000</td>\n",
       "    </tr>\n",
       "    <tr>\n",
       "      <th>...</th>\n",
       "      <td>...</td>\n",
       "      <td>...</td>\n",
       "    </tr>\n",
       "    <tr>\n",
       "      <th>7440</th>\n",
       "      <td>7507</td>\n",
       "      <td>2018-08-04 00:00:00.000000</td>\n",
       "    </tr>\n",
       "    <tr>\n",
       "      <th>7441</th>\n",
       "      <td>7508</td>\n",
       "      <td>2020-01-02 00:00:00.000000</td>\n",
       "    </tr>\n",
       "    <tr>\n",
       "      <th>7442</th>\n",
       "      <td>7509</td>\n",
       "      <td>2019-02-01 00:00:00.000000</td>\n",
       "    </tr>\n",
       "    <tr>\n",
       "      <th>7443</th>\n",
       "      <td>7510</td>\n",
       "      <td>2018-08-11 00:00:00.000000</td>\n",
       "    </tr>\n",
       "    <tr>\n",
       "      <th>7444</th>\n",
       "      <td>7511</td>\n",
       "      <td>2018-11-01 00:00:00.000000</td>\n",
       "    </tr>\n",
       "  </tbody>\n",
       "</table>\n",
       "<p>7445 rows × 2 columns</p>\n",
       "</div>"
      ],
      "text/plain": [
       "      index                        time\n",
       "0         0  2017-10-15 00:00:00.000000\n",
       "1         1  2017-10-07 00:00:00.000000\n",
       "2         2  2017-08-20 00:00:00.000000\n",
       "3         3  2017-03-31 00:00:00.000000\n",
       "4         4  2017-03-05 00:00:00.000000\n",
       "...     ...                         ...\n",
       "7440   7507  2018-08-04 00:00:00.000000\n",
       "7441   7508  2020-01-02 00:00:00.000000\n",
       "7442   7509  2019-02-01 00:00:00.000000\n",
       "7443   7510  2018-08-11 00:00:00.000000\n",
       "7444   7511  2018-11-01 00:00:00.000000\n",
       "\n",
       "[7445 rows x 2 columns]"
      ]
     },
     "execution_count": 5,
     "metadata": {},
     "output_type": "execute_result"
    }
   ],
   "source": [
    "df = pd.read_sql_query(\"SELECT * from ts1\", engine)\n",
    "df"
   ]
  },
  {
   "cell_type": "code",
   "execution_count": 6,
   "metadata": {},
   "outputs": [],
   "source": [
    "sqlite_connection.close()"
   ]
  },
  {
   "cell_type": "code",
   "execution_count": 7,
   "metadata": {},
   "outputs": [],
   "source": [
    "df['time'] = pd.to_datetime(df['time'])"
   ]
  },
  {
   "cell_type": "code",
   "execution_count": 8,
   "metadata": {},
   "outputs": [
    {
     "data": {
      "text/html": [
       "<div>\n",
       "<style scoped>\n",
       "    .dataframe tbody tr th:only-of-type {\n",
       "        vertical-align: middle;\n",
       "    }\n",
       "\n",
       "    .dataframe tbody tr th {\n",
       "        vertical-align: top;\n",
       "    }\n",
       "\n",
       "    .dataframe thead th {\n",
       "        text-align: right;\n",
       "    }\n",
       "</style>\n",
       "<table border=\"1\" class=\"dataframe\">\n",
       "  <thead>\n",
       "    <tr style=\"text-align: right;\">\n",
       "      <th></th>\n",
       "      <th>time</th>\n",
       "    </tr>\n",
       "  </thead>\n",
       "  <tbody>\n",
       "    <tr>\n",
       "      <th>0</th>\n",
       "      <td>2017-10-15</td>\n",
       "    </tr>\n",
       "    <tr>\n",
       "      <th>1</th>\n",
       "      <td>2017-10-07</td>\n",
       "    </tr>\n",
       "    <tr>\n",
       "      <th>2</th>\n",
       "      <td>2017-08-20</td>\n",
       "    </tr>\n",
       "    <tr>\n",
       "      <th>3</th>\n",
       "      <td>2017-03-31</td>\n",
       "    </tr>\n",
       "    <tr>\n",
       "      <th>4</th>\n",
       "      <td>2017-03-05</td>\n",
       "    </tr>\n",
       "    <tr>\n",
       "      <th>...</th>\n",
       "      <td>...</td>\n",
       "    </tr>\n",
       "    <tr>\n",
       "      <th>7440</th>\n",
       "      <td>2018-08-04</td>\n",
       "    </tr>\n",
       "    <tr>\n",
       "      <th>7441</th>\n",
       "      <td>2020-01-02</td>\n",
       "    </tr>\n",
       "    <tr>\n",
       "      <th>7442</th>\n",
       "      <td>2019-02-01</td>\n",
       "    </tr>\n",
       "    <tr>\n",
       "      <th>7443</th>\n",
       "      <td>2018-08-11</td>\n",
       "    </tr>\n",
       "    <tr>\n",
       "      <th>7444</th>\n",
       "      <td>2018-11-01</td>\n",
       "    </tr>\n",
       "  </tbody>\n",
       "</table>\n",
       "<p>7445 rows × 1 columns</p>\n",
       "</div>"
      ],
      "text/plain": [
       "           time\n",
       "0    2017-10-15\n",
       "1    2017-10-07\n",
       "2    2017-08-20\n",
       "3    2017-03-31\n",
       "4    2017-03-05\n",
       "...         ...\n",
       "7440 2018-08-04\n",
       "7441 2020-01-02\n",
       "7442 2019-02-01\n",
       "7443 2018-08-11\n",
       "7444 2018-11-01\n",
       "\n",
       "[7445 rows x 1 columns]"
      ]
     },
     "execution_count": 8,
     "metadata": {},
     "output_type": "execute_result"
    }
   ],
   "source": [
    "df.drop(columns='index',inplace = True)\n",
    "df\n"
   ]
  },
  {
   "cell_type": "code",
   "execution_count": 9,
   "metadata": {},
   "outputs": [],
   "source": [
    "\n",
    "from warnings import simplefilter\n",
    "\n",
    "import numpy as np\n",
    "import pandas as pd\n",
    "\n",
    "from sktime.datasets import load_airline\n",
    "from sktime.forecasting.arima import ARIMA, AutoARIMA\n",
    "from sktime.forecasting.base import ForecastingHorizon\n",
    "from sktime.forecasting.compose import (\n",
    "    EnsembleForecaster,\n",
    "    MultiplexForecaster,\n",
    "    TransformedTargetForecaster,\n",
    "    make_reduction,\n",
    ")\n",
    "from sktime.forecasting.exp_smoothing import ExponentialSmoothing\n",
    "from sktime.forecasting.model_evaluation import evaluate\n",
    "from sktime.forecasting.model_selection import (\n",
    "    ExpandingWindowSplitter,\n",
    "    ForecastingGridSearchCV,\n",
    "    SlidingWindowSplitter,\n",
    "    temporal_train_test_split,\n",
    ")\n",
    "from sktime.forecasting.naive import NaiveForecaster\n",
    "from sktime.forecasting.theta import ThetaForecaster\n",
    "from sktime.forecasting.trend import PolynomialTrendForecaster\n",
    "from sktime.performance_metrics.forecasting import (\n",
    "    MeanAbsolutePercentageError,\n",
    "    mean_absolute_percentage_error,\n",
    ")\n",
    "from sktime.transformations.series.detrend import Deseasonalizer, Detrender\n",
    "from sktime.utils.plotting import plot_series\n",
    "\n",
    "simplefilter(\"ignore\", FutureWarning)\n",
    "%matplotlib inline"
   ]
  },
  {
   "cell_type": "code",
   "execution_count": 10,
   "metadata": {},
   "outputs": [],
   "source": [
    "df = df[df.time.dt.year>2017]"
   ]
  },
  {
   "cell_type": "code",
   "execution_count": 11,
   "metadata": {},
   "outputs": [],
   "source": [
    "ts1 = df.resample('W-MON',on='time').count()"
   ]
  },
  {
   "cell_type": "code",
   "execution_count": 12,
   "metadata": {},
   "outputs": [],
   "source": [
    "ts1 = ts1[:-1]\n",
    "ts1 = ts1[1:]\n"
   ]
  },
  {
   "cell_type": "code",
   "execution_count": 13,
   "metadata": {},
   "outputs": [],
   "source": [
    "ts1.index = ts1.index.to_period()\n",
    "y = ts1.time\n",
    "max_date = max(ts1.index).strftime('%Y-%m-%d')\n"
   ]
  },
  {
   "cell_type": "code",
   "execution_count": 14,
   "metadata": {},
   "outputs": [],
   "source": [
    "fh = ForecastingHorizon(\n",
    "    pd.PeriodIndex(pd.date_range('2020-09-03', periods=50, freq=\"W-MON\")), is_relative=False\n",
    " )"
   ]
  },
  {
   "cell_type": "code",
   "execution_count": 15,
   "metadata": {},
   "outputs": [],
   "source": [
    "forecaster = ExponentialSmoothing(trend=\"add\", seasonal=\"additive\", sp=52)\n",
    "forecaster.fit(y)\n",
    "y_pred = forecaster.predict(fh)\n",
    "#mean_absolute_percentage_error(y_pred, y)"
   ]
  },
  {
   "cell_type": "code",
   "execution_count": 16,
   "metadata": {},
   "outputs": [],
   "source": [
    "y_pred.index = y_pred.index.to_timestamp()"
   ]
  },
  {
   "cell_type": "code",
   "execution_count": 17,
   "metadata": {},
   "outputs": [],
   "source": [
    "pred = pd.DataFrame(y_pred).reset_index()\n",
    "pred['method']='ExponentialSmoothing'\n",
    "pred.columns=[['date','value','method']]"
   ]
  },
  {
   "cell_type": "code",
   "execution_count": 19,
   "metadata": {
    "scrolled": true
   },
   "outputs": [],
   "source": [
    "y.index = y.index.to_timestamp()"
   ]
  },
  {
   "cell_type": "code",
   "execution_count": 20,
   "metadata": {},
   "outputs": [],
   "source": [
    "fact = pd.DataFrame(y)\n",
    "fact.rename(columns={'time':'val'},inplace=True)"
   ]
  },
  {
   "cell_type": "code",
   "execution_count": 21,
   "metadata": {},
   "outputs": [],
   "source": [
    "fact.reset_index(inplace=True)"
   ]
  },
  {
   "cell_type": "code",
   "execution_count": 22,
   "metadata": {},
   "outputs": [],
   "source": [
    "fact['method']='fact'"
   ]
  },
  {
   "cell_type": "code",
   "execution_count": 23,
   "metadata": {},
   "outputs": [],
   "source": [
    "fact.columns=[['date','value','method']]"
   ]
  },
  {
   "cell_type": "code",
   "execution_count": 24,
   "metadata": {},
   "outputs": [],
   "source": [
    "full = pd.concat([fact,pred])"
   ]
  },
  {
   "cell_type": "code",
   "execution_count": 25,
   "metadata": {},
   "outputs": [
    {
     "data": {
      "text/html": [
       "<div>\n",
       "<style scoped>\n",
       "    .dataframe tbody tr th:only-of-type {\n",
       "        vertical-align: middle;\n",
       "    }\n",
       "\n",
       "    .dataframe tbody tr th {\n",
       "        vertical-align: top;\n",
       "    }\n",
       "\n",
       "    .dataframe thead tr th {\n",
       "        text-align: left;\n",
       "    }\n",
       "</style>\n",
       "<table border=\"1\" class=\"dataframe\">\n",
       "  <thead>\n",
       "    <tr>\n",
       "      <th></th>\n",
       "      <th>date</th>\n",
       "      <th>value</th>\n",
       "      <th>method</th>\n",
       "    </tr>\n",
       "  </thead>\n",
       "  <tbody>\n",
       "    <tr>\n",
       "      <th>0</th>\n",
       "      <td>2018-01-02</td>\n",
       "      <td>21.000000</td>\n",
       "      <td>fact</td>\n",
       "    </tr>\n",
       "    <tr>\n",
       "      <th>1</th>\n",
       "      <td>2018-01-09</td>\n",
       "      <td>28.000000</td>\n",
       "      <td>fact</td>\n",
       "    </tr>\n",
       "    <tr>\n",
       "      <th>2</th>\n",
       "      <td>2018-01-16</td>\n",
       "      <td>32.000000</td>\n",
       "      <td>fact</td>\n",
       "    </tr>\n",
       "    <tr>\n",
       "      <th>3</th>\n",
       "      <td>2018-01-23</td>\n",
       "      <td>25.000000</td>\n",
       "      <td>fact</td>\n",
       "    </tr>\n",
       "    <tr>\n",
       "      <th>4</th>\n",
       "      <td>2018-01-30</td>\n",
       "      <td>33.000000</td>\n",
       "      <td>fact</td>\n",
       "    </tr>\n",
       "    <tr>\n",
       "      <th>...</th>\n",
       "      <td>...</td>\n",
       "      <td>...</td>\n",
       "      <td>...</td>\n",
       "    </tr>\n",
       "    <tr>\n",
       "      <th>45</th>\n",
       "      <td>2021-07-13</td>\n",
       "      <td>51.144138</td>\n",
       "      <td>ExponentialSmoothing</td>\n",
       "    </tr>\n",
       "    <tr>\n",
       "      <th>46</th>\n",
       "      <td>2021-07-20</td>\n",
       "      <td>50.477456</td>\n",
       "      <td>ExponentialSmoothing</td>\n",
       "    </tr>\n",
       "    <tr>\n",
       "      <th>47</th>\n",
       "      <td>2021-07-27</td>\n",
       "      <td>54.144093</td>\n",
       "      <td>ExponentialSmoothing</td>\n",
       "    </tr>\n",
       "    <tr>\n",
       "      <th>48</th>\n",
       "      <td>2021-08-03</td>\n",
       "      <td>48.144096</td>\n",
       "      <td>ExponentialSmoothing</td>\n",
       "    </tr>\n",
       "    <tr>\n",
       "      <th>49</th>\n",
       "      <td>2021-08-10</td>\n",
       "      <td>49.477393</td>\n",
       "      <td>ExponentialSmoothing</td>\n",
       "    </tr>\n",
       "  </tbody>\n",
       "</table>\n",
       "<p>219 rows × 3 columns</p>\n",
       "</div>"
      ],
      "text/plain": [
       "         date      value                method\n",
       "0  2018-01-02  21.000000                  fact\n",
       "1  2018-01-09  28.000000                  fact\n",
       "2  2018-01-16  32.000000                  fact\n",
       "3  2018-01-23  25.000000                  fact\n",
       "4  2018-01-30  33.000000                  fact\n",
       "..        ...        ...                   ...\n",
       "45 2021-07-13  51.144138  ExponentialSmoothing\n",
       "46 2021-07-20  50.477456  ExponentialSmoothing\n",
       "47 2021-07-27  54.144093  ExponentialSmoothing\n",
       "48 2021-08-03  48.144096  ExponentialSmoothing\n",
       "49 2021-08-10  49.477393  ExponentialSmoothing\n",
       "\n",
       "[219 rows x 3 columns]"
      ]
     },
     "execution_count": 25,
     "metadata": {},
     "output_type": "execute_result"
    }
   ],
   "source": [
    "full"
   ]
  },
  {
   "cell_type": "code",
   "execution_count": 26,
   "metadata": {},
   "outputs": [
    {
     "name": "stdout",
     "output_type": "stream",
     "text": [
      "2021-06-27 22:52:08,182 INFO sqlalchemy.engine.base.Engine PRAGMA main.table_info(\"ts_pred\")\n",
      "2021-06-27 22:52:08,184 INFO sqlalchemy.engine.base.Engine ()\n",
      "2021-06-27 22:52:08,186 INFO sqlalchemy.engine.base.Engine PRAGMA main.table_info(\"ts_pred\")\n",
      "2021-06-27 22:52:08,187 INFO sqlalchemy.engine.base.Engine ()\n",
      "2021-06-27 22:52:08,190 INFO sqlalchemy.engine.base.Engine SELECT name FROM sqlite_master WHERE type='table' ORDER BY name\n",
      "2021-06-27 22:52:08,192 INFO sqlalchemy.engine.base.Engine ()\n",
      "2021-06-27 22:52:08,194 INFO sqlalchemy.engine.base.Engine PRAGMA main.table_xinfo(\"ts_pred\")\n",
      "2021-06-27 22:52:08,195 INFO sqlalchemy.engine.base.Engine ()\n",
      "2021-06-27 22:52:08,197 INFO sqlalchemy.engine.base.Engine SELECT sql FROM  (SELECT * FROM sqlite_master UNION ALL   SELECT * FROM sqlite_temp_master) WHERE name = ? AND type = 'table'\n",
      "2021-06-27 22:52:08,199 INFO sqlalchemy.engine.base.Engine ('ts_pred',)\n",
      "2021-06-27 22:52:08,201 INFO sqlalchemy.engine.base.Engine PRAGMA main.foreign_key_list(\"ts_pred\")\n",
      "2021-06-27 22:52:08,201 INFO sqlalchemy.engine.base.Engine ()\n",
      "2021-06-27 22:52:08,206 INFO sqlalchemy.engine.base.Engine PRAGMA temp.foreign_key_list(\"ts_pred\")\n",
      "2021-06-27 22:52:08,207 INFO sqlalchemy.engine.base.Engine ()\n",
      "2021-06-27 22:52:08,207 INFO sqlalchemy.engine.base.Engine SELECT sql FROM  (SELECT * FROM sqlite_master UNION ALL   SELECT * FROM sqlite_temp_master) WHERE name = ? AND type = 'table'\n",
      "2021-06-27 22:52:08,212 INFO sqlalchemy.engine.base.Engine ('ts_pred',)\n",
      "2021-06-27 22:52:08,212 INFO sqlalchemy.engine.base.Engine PRAGMA main.index_list(\"ts_pred\")\n",
      "2021-06-27 22:52:08,212 INFO sqlalchemy.engine.base.Engine ()\n",
      "2021-06-27 22:52:08,218 INFO sqlalchemy.engine.base.Engine PRAGMA main.index_info(\"ix_ts_pred_index\")\n",
      "2021-06-27 22:52:08,218 INFO sqlalchemy.engine.base.Engine ()\n",
      "2021-06-27 22:52:08,218 INFO sqlalchemy.engine.base.Engine PRAGMA main.index_list(\"ts_pred\")\n",
      "2021-06-27 22:52:08,224 INFO sqlalchemy.engine.base.Engine ()\n",
      "2021-06-27 22:52:08,224 INFO sqlalchemy.engine.base.Engine PRAGMA main.index_info(\"ix_ts_pred_index\")\n",
      "2021-06-27 22:52:08,224 INFO sqlalchemy.engine.base.Engine ()\n",
      "2021-06-27 22:52:08,224 INFO sqlalchemy.engine.base.Engine SELECT sql FROM  (SELECT * FROM sqlite_master UNION ALL   SELECT * FROM sqlite_temp_master) WHERE name = ? AND type = 'table'\n",
      "2021-06-27 22:52:08,233 INFO sqlalchemy.engine.base.Engine ('ts_pred',)\n",
      "2021-06-27 22:52:08,233 INFO sqlalchemy.engine.base.Engine \n",
      "DROP TABLE ts_pred\n",
      "2021-06-27 22:52:08,233 INFO sqlalchemy.engine.base.Engine ()\n",
      "2021-06-27 22:52:08,291 INFO sqlalchemy.engine.base.Engine COMMIT\n",
      "2021-06-27 22:52:08,291 INFO sqlalchemy.engine.base.Engine \n",
      "CREATE TABLE ts_pred (\n",
      "\t\"index\" BIGINT, \n",
      "\t\"('date',)\" DATETIME, \n",
      "\t\"('value',)\" FLOAT, \n",
      "\t\"('method',)\" TEXT\n",
      ")\n",
      "\n",
      "\n",
      "2021-06-27 22:52:08,291 INFO sqlalchemy.engine.base.Engine ()\n",
      "2021-06-27 22:52:08,300 INFO sqlalchemy.engine.base.Engine COMMIT\n",
      "2021-06-27 22:52:08,306 INFO sqlalchemy.engine.base.Engine CREATE INDEX ix_ts_pred_index ON ts_pred (\"index\")\n",
      "2021-06-27 22:52:08,309 INFO sqlalchemy.engine.base.Engine ()\n",
      "2021-06-27 22:52:08,319 INFO sqlalchemy.engine.base.Engine COMMIT\n",
      "2021-06-27 22:52:08,321 INFO sqlalchemy.engine.base.Engine BEGIN (implicit)\n",
      "2021-06-27 22:52:08,329 INFO sqlalchemy.engine.base.Engine INSERT INTO ts_pred (\"('date',)\", \"('value',)\", \"('method',)\") VALUES (?, ?, ?)\n",
      "2021-06-27 22:52:08,329 INFO sqlalchemy.engine.base.Engine (('2018-01-02 00:00:00.000000', 21.0, 'fact'), ('2018-01-09 00:00:00.000000', 28.0, 'fact'), ('2018-01-16 00:00:00.000000', 32.0, 'fact'), ('2018-01-23 00:00:00.000000', 25.0, 'fact'), ('2018-01-30 00:00:00.000000', 33.0, 'fact'), ('2018-02-06 00:00:00.000000', 34.0, 'fact'), ('2018-02-13 00:00:00.000000', 28.0, 'fact'), ('2018-02-20 00:00:00.000000', 37.0, 'fact')  ... displaying 10 of 219 total bound parameter sets ...  ('2021-08-03 00:00:00.000000', 48.14409552165928, 'ExponentialSmoothing'), ('2021-08-10 00:00:00.000000', 49.47739306187933, 'ExponentialSmoothing'))\n",
      "2021-06-27 22:52:08,340 INFO sqlalchemy.engine.base.Engine COMMIT\n"
     ]
    }
   ],
   "source": [
    "\n",
    "sqlite_connection = engine.connect()\n",
    "sqlite_table = \"ts_pred\"\n",
    "full.to_sql(sqlite_table, sqlite_connection, if_exists='replace')"
   ]
  },
  {
   "cell_type": "code",
   "execution_count": 27,
   "metadata": {},
   "outputs": [],
   "source": [
    "sqlite_connection.close()"
   ]
  },
  {
   "cell_type": "code",
   "execution_count": null,
   "metadata": {},
   "outputs": [],
   "source": []
  }
 ],
 "metadata": {
  "kernelspec": {
   "display_name": "Python 3",
   "language": "python",
   "name": "python3"
  },
  "language_info": {
   "codemirror_mode": {
    "name": "ipython",
    "version": 3
   },
   "file_extension": ".py",
   "mimetype": "text/x-python",
   "name": "python",
   "nbconvert_exporter": "python",
   "pygments_lexer": "ipython3",
   "version": "3.8.5"
  }
 },
 "nbformat": 4,
 "nbformat_minor": 4
}
