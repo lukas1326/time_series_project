{
 "cells": [
  {
   "cell_type": "code",
   "execution_count": 1,
   "metadata": {},
   "outputs": [],
   "source": [
    "import pandas as pd\n",
    "import sqlite3\n",
    "import pickle\n",
    "from sqlalchemy import create_engine"
   ]
  },
  {
   "cell_type": "code",
   "execution_count": 2,
   "metadata": {},
   "outputs": [],
   "source": [
    "with open('date_for_ts.pickle','rb') as f:\n",
    "    df = pickle.load(f)"
   ]
  },
  {
   "cell_type": "code",
   "execution_count": 3,
   "metadata": {
    "scrolled": true
   },
   "outputs": [
    {
     "name": "stdout",
     "output_type": "stream",
     "text": [
      "2021-06-27 17:54:41,977 INFO sqlalchemy.engine.base.Engine SELECT CAST('test plain returns' AS VARCHAR(60)) AS anon_1\n",
      "2021-06-27 17:54:41,977 INFO sqlalchemy.engine.base.Engine ()\n",
      "2021-06-27 17:54:41,977 INFO sqlalchemy.engine.base.Engine SELECT CAST('test unicode returns' AS VARCHAR(60)) AS anon_1\n",
      "2021-06-27 17:54:41,983 INFO sqlalchemy.engine.base.Engine ()\n"
     ]
    }
   ],
   "source": [
    "# https://www.fullstackpython.com/blog/export-pandas-dataframes-sqlite-sqlalchemy.html\n",
    "engine = create_engine('sqlite:///ts.sqlite3', echo=True)\n",
    "sqlite_connection = engine.connect()"
   ]
  },
  {
   "cell_type": "code",
   "execution_count": 4,
   "metadata": {},
   "outputs": [
    {
     "name": "stdout",
     "output_type": "stream",
     "text": [
      "2021-06-27 17:55:19,987 INFO sqlalchemy.engine.base.Engine PRAGMA main.table_info(\"ts1\")\n",
      "2021-06-27 17:55:19,987 INFO sqlalchemy.engine.base.Engine ()\n",
      "2021-06-27 17:55:19,996 INFO sqlalchemy.engine.base.Engine PRAGMA temp.table_info(\"ts1\")\n",
      "2021-06-27 17:55:19,997 INFO sqlalchemy.engine.base.Engine ()\n",
      "2021-06-27 17:55:20,000 INFO sqlalchemy.engine.base.Engine \n",
      "CREATE TABLE ts1 (\n",
      "\t\"index\" BIGINT, \n",
      "\ttime DATETIME\n",
      ")\n",
      "\n",
      "\n",
      "2021-06-27 17:55:20,001 INFO sqlalchemy.engine.base.Engine ()\n",
      "2021-06-27 17:55:20,023 INFO sqlalchemy.engine.base.Engine COMMIT\n",
      "2021-06-27 17:55:20,023 INFO sqlalchemy.engine.base.Engine CREATE INDEX ix_ts1_index ON ts1 (\"index\")\n",
      "2021-06-27 17:55:20,023 INFO sqlalchemy.engine.base.Engine ()\n",
      "2021-06-27 17:55:20,031 INFO sqlalchemy.engine.base.Engine COMMIT\n",
      "2021-06-27 17:55:20,041 INFO sqlalchemy.engine.base.Engine BEGIN (implicit)\n",
      "2021-06-27 17:55:20,090 INFO sqlalchemy.engine.base.Engine INSERT INTO ts1 (\"index\", time) VALUES (?, ?)\n",
      "2021-06-27 17:55:20,090 INFO sqlalchemy.engine.base.Engine ((0, '2017-10-15 00:00:00.000000'), (1, '2017-10-07 00:00:00.000000'), (2, '2017-08-20 00:00:00.000000'), (3, '2017-03-31 00:00:00.000000'), (4, '2017-03-05 00:00:00.000000'), (5, '2017-02-07 00:00:00.000000'), (6, '2017-04-28 00:00:00.000000'), (7, '2017-04-11 00:00:00.000000')  ... displaying 10 of 7445 total bound parameter sets ...  (7510, '2018-08-11 00:00:00.000000'), (7511, '2018-11-01 00:00:00.000000'))\n",
      "2021-06-27 17:55:20,102 INFO sqlalchemy.engine.base.Engine COMMIT\n"
     ]
    }
   ],
   "source": [
    "sqlite_table = \"ts1\"\n",
    "df.to_sql(sqlite_table, sqlite_connection, if_exists='fail')"
   ]
  },
  {
   "cell_type": "code",
   "execution_count": 5,
   "metadata": {},
   "outputs": [],
   "source": [
    "sqlite_connection.close()"
   ]
  },
  {
   "cell_type": "code",
   "execution_count": null,
   "metadata": {},
   "outputs": [],
   "source": []
  }
 ],
 "metadata": {
  "kernelspec": {
   "display_name": "Python 3",
   "language": "python",
   "name": "python3"
  },
  "language_info": {
   "codemirror_mode": {
    "name": "ipython",
    "version": 3
   },
   "file_extension": ".py",
   "mimetype": "text/x-python",
   "name": "python",
   "nbconvert_exporter": "python",
   "pygments_lexer": "ipython3",
   "version": "3.8.5"
  }
 },
 "nbformat": 4,
 "nbformat_minor": 4
}
