{
 "cells": [
  {
   "cell_type": "code",
   "execution_count": null,
   "metadata": {},
   "outputs": [],
   "source": [
    "import pandas as pd\n",
    "import sqlite3\n",
    "from sqlalchemy import create_engine"
   ]
  },
  {
   "cell_type": "code",
   "execution_count": null,
   "metadata": {
    "scrolled": true
   },
   "outputs": [],
   "source": [
    "# зчитуємо дані з таблиці sqlite для прогнозування\n",
    "engine = create_engine('sqlite:///ts.sqlite3', echo=False)\n",
    "sqlite_connection = engine.connect()\n",
    "\n",
    "from sqlalchemy import inspect\n",
    "inspector = inspect(engine)\n",
    "\n",
    "# Get table information\n",
    "print(inspector.get_table_names())\n",
    "\n",
    "# Get column information\n",
    "print(inspector.get_columns('ts1'))\n",
    "\n",
    "df = pd.read_sql_query(\"SELECT * from ts1\", engine)\n",
    "df\n",
    "\n",
    "sqlite_connection.close()"
   ]
  },
  {
   "cell_type": "code",
   "execution_count": null,
   "metadata": {},
   "outputs": [],
   "source": [
    "# в таблиці sqlite дані дату у нас в текстовому форматі, тож переформатовуємо в datetime\n",
    "df['time'] = pd.to_datetime(df['time'])"
   ]
  },
  {
   "cell_type": "code",
   "execution_count": null,
   "metadata": {},
   "outputs": [],
   "source": [
    "# видаляємо зайву колонку index, яка невідомо чому з'явилась\n",
    "df.drop(columns='index',inplace = True)\n",
    "df\n"
   ]
  },
  {
   "cell_type": "code",
   "execution_count": null,
   "metadata": {},
   "outputs": [],
   "source": [
    "# бібліотеки для форекастінгу заватажені без розбору з туторіола\n",
    "from warnings import simplefilter\n",
    "\n",
    "import numpy as np\n",
    "import pandas as pd\n",
    "\n",
    "from sktime.datasets import load_airline\n",
    "from sktime.forecasting.arima import ARIMA, AutoARIMA\n",
    "from sktime.forecasting.base import ForecastingHorizon\n",
    "from sktime.forecasting.compose import (\n",
    "    EnsembleForecaster,\n",
    "    MultiplexForecaster,\n",
    "    TransformedTargetForecaster,\n",
    "    make_reduction,\n",
    ")\n",
    "from sktime.forecasting.exp_smoothing import ExponentialSmoothing\n",
    "from sktime.forecasting.model_evaluation import evaluate\n",
    "from sktime.forecasting.model_selection import (\n",
    "    ExpandingWindowSplitter,\n",
    "    ForecastingGridSearchCV,\n",
    "    SlidingWindowSplitter,\n",
    "    temporal_train_test_split,\n",
    ")\n",
    "from sktime.forecasting.naive import NaiveForecaster\n",
    "from sktime.forecasting.theta import ThetaForecaster\n",
    "from sktime.forecasting.trend import PolynomialTrendForecaster\n",
    "from sktime.performance_metrics.forecasting import (\n",
    "    MeanAbsolutePercentageError,\n",
    "    mean_absolute_percentage_error,\n",
    ")\n",
    "from sktime.transformations.series.detrend import Deseasonalizer, Detrender\n",
    "from sktime.utils.plotting import plot_series\n",
    "from sktime.forecasting.bats import BATS\n",
    "from sktime.forecasting.tbats import TBATS\n",
    "\n",
    "simplefilter(\"ignore\", FutureWarning)\n",
    "%matplotlib inline"
   ]
  },
  {
   "cell_type": "code",
   "execution_count": null,
   "metadata": {},
   "outputs": [],
   "source": [
    "# зрізаємо нерелеватний період\n",
    "df = df[df.time.dt.year>2017]"
   ]
  },
  {
   "cell_type": "code",
   "execution_count": null,
   "metadata": {},
   "outputs": [],
   "source": [
    "# перетворюємо дату у формат періоду та підраховуємо кількість подій у цьому періоді\n",
    "ts1 = df.resample('M',on='time').count()"
   ]
  },
  {
   "cell_type": "code",
   "execution_count": null,
   "metadata": {},
   "outputs": [],
   "source": [
    "# першій та останній період скоріш за все будуть неповними, можливо, це буде впливати на прогноз,можливо,ні, але на графіку\n",
    "# буде виглядати обрубано, тому їх видаляємо\n",
    "ts1 = ts1[:-1]\n",
    "ts1 = ts1[1:]\n"
   ]
  },
  {
   "cell_type": "code",
   "execution_count": null,
   "metadata": {},
   "outputs": [],
   "source": [
    "# resample ставить дату в індекс, але переформатовує дату на об'єкт,переводимо індекс знову в формат періоду\n",
    "# та зберігаємо в зміній y\n",
    "ts1.index = ts1.index.to_period()\n",
    "y = ts1.time\n",
    "# для горизонта передбачення краще використати щось типу max_date минус декілька періодів, а не абсолютну дату, ДОРОБИТИ\n",
    "max_date = max(ts1.index).strftime('%Y-%m-%d')\n"
   ]
  },
  {
   "cell_type": "code",
   "execution_count": null,
   "metadata": {},
   "outputs": [],
   "source": [
    "fh = ForecastingHorizon(\n",
    "    pd.PeriodIndex(pd.date_range('2020-09-01', periods=12, freq=\"M\")), is_relative=False\n",
    " )"
   ]
  },
  {
   "cell_type": "code",
   "execution_count": null,
   "metadata": {},
   "outputs": [],
   "source": [
    "\n",
    "def prediction_table(y,forecaster,fh,method):\n",
    "    forecaster.fit(y)\n",
    "    y_pred = forecaster.predict(fh)\n",
    "    y_er = y['2020-09-01':]\n",
    "    max_y = max(y.index).strftime('%Y-%m-%d')\n",
    "    pred_err = y_pred['2020-09-01':max_y]\n",
    "    y_pred.index = y_pred.index.to_timestamp()\n",
    "    pred = pd.DataFrame(y_pred).reset_index()\n",
    "    pred['method']=method\n",
    "    pred['MAPE']=mean_absolute_percentage_error(y_er, pred_err)\n",
    "    pred.columns=[['date','value','method','MAPE']]\n",
    "    return pred\n",
    "    \n",
    "#mean_absolute_percentage_error(y_pred, y)"
   ]
  },
  {
   "cell_type": "code",
   "execution_count": null,
   "metadata": {},
   "outputs": [],
   "source": [
    "forecaster = ExponentialSmoothing(trend=\"add\", seasonal=\"additive\", sp=12)\n",
    "pred1 = prediction_table(y,forecaster,fh,'ExponentialSmoothing')"
   ]
  },
  {
   "cell_type": "code",
   "execution_count": null,
   "metadata": {
    "scrolled": true
   },
   "outputs": [],
   "source": [
    "forecaster = AutoARIMA(sp=12, suppress_warnings=True)\n",
    "pred2 = prediction_table(y,forecaster,fh,'AutoARIMA')"
   ]
  },
  {
   "cell_type": "code",
   "execution_count": null,
   "metadata": {},
   "outputs": [],
   "source": [
    "forecaster = BATS(sp=12, use_trend=True, use_box_cox=True)\n",
    "pred3 = prediction_table(y,forecaster,fh,'BATS')"
   ]
  },
  {
   "cell_type": "code",
   "execution_count": null,
   "metadata": {},
   "outputs": [],
   "source": [
    "forecaster = EnsembleForecaster([\n",
    "    (\"ses\", ExponentialSmoothing(seasonal=\"multiplicative\", sp=12)),\n",
    "    (\"holt\", ExponentialSmoothing(trend=\"add\",  seasonal=\"multiplicative\", sp=12)),\n",
    "    (\"damped\", ExponentialSmoothing(trend=\"add\",  seasonal=\"multiplicative\", sp=12))\n",
    "])\n",
    "pred4 = prediction_table(y,forecaster,fh,'EnsembleForecaster')"
   ]
  },
  {
   "cell_type": "code",
   "execution_count": null,
   "metadata": {},
   "outputs": [],
   "source": [
    "forecaster = TBATS(sp=12, use_trend=True, use_box_cox=True)\n",
    "pred5 = prediction_table(y,forecaster,fh,'TBATS')"
   ]
  },
  {
   "cell_type": "code",
   "execution_count": null,
   "metadata": {},
   "outputs": [],
   "source": [
    "z = y.copy()\n",
    "z = z.to_timestamp(freq=\"M\")\n",
    "fhz = ForecastingHorizon(\n",
    "    pd.date_range('2020-09-01', periods=12, freq=\"M\"), is_relative=False\n",
    " )"
   ]
  },
  {
   "cell_type": "code",
   "execution_count": null,
   "metadata": {},
   "outputs": [],
   "source": [
    "from sktime.forecasting.fbprophet import Prophet\n",
    "forecaster = Prophet(\n",
    "    seasonality_mode=\"multiplicative\",\n",
    "    n_changepoints=int(len(y) / 8),\n",
    "    add_country_holidays={\"country_name\": \"Ukraine\"},\n",
    "    yearly_seasonality=True,\n",
    "    weekly_seasonality=False,\n",
    "    daily_seasonality=True,\n",
    ")\n",
    "forecaster.fit(z)\n",
    "y_pred = forecaster.predict(fhz)"
   ]
  },
  {
   "cell_type": "code",
   "execution_count": null,
   "metadata": {},
   "outputs": [],
   "source": [
    "pr_prophet = pd.DataFrame(y_pred).reset_index()\n",
    "pr_prophet['ds'] = pd.to_datetime(pr_prophet['ds'])\n",
    "pr_prophet['method']='Prophet'\n",
    "z_er = z['2020-09-01':]\n",
    "max_z = max(z.index).strftime('%Y-%m-%d')\n",
    "pred_err = y_pred['2020-09-01':max_z]\n",
    "pr_prophet['MAPE']=mean_absolute_percentage_error(z_er, pred_err)\n",
    "pr_prophet.columns=[['date','value','method','MAPE']]\n",
    "pr_prophet"
   ]
  },
  {
   "cell_type": "code",
   "execution_count": null,
   "metadata": {},
   "outputs": [],
   "source": [
    "y.index = y.index.to_timestamp()\n",
    "\n",
    "fact = pd.DataFrame(y)\n",
    "fact.rename(columns={'time':'val'},inplace=True)\n",
    "\n",
    "fact.reset_index(inplace=True)\n",
    "\n",
    "fact['method']='fact'\n",
    "\n",
    "fact.columns=[['date','value','method']]\n",
    "\n",
    "full = pd.concat([fact,pred1,pred2,pred3,pred4,pred5,pr_prophet])\n",
    "\n",
    "full"
   ]
  },
  {
   "cell_type": "code",
   "execution_count": null,
   "metadata": {},
   "outputs": [],
   "source": [
    "# запис у таблицю\n",
    "sqlite_connection = engine.connect()\n",
    "sqlite_table = \"ts_pred\"\n",
    "full.to_sql(sqlite_table, sqlite_connection, if_exists='replace')\n",
    "sqlite_connection.close()"
   ]
  },
  {
   "cell_type": "code",
   "execution_count": null,
   "metadata": {},
   "outputs": [],
   "source": []
  }
 ],
 "metadata": {
  "kernelspec": {
   "display_name": "Python 3",
   "language": "python",
   "name": "python3"
  },
  "language_info": {
   "codemirror_mode": {
    "name": "ipython",
    "version": 3
   },
   "file_extension": ".py",
   "mimetype": "text/x-python",
   "name": "python",
   "nbconvert_exporter": "python",
   "pygments_lexer": "ipython3",
   "version": "3.8.5"
  }
 },
 "nbformat": 4,
 "nbformat_minor": 4
}
