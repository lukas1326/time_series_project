{
 "cells": [
  {
   "cell_type": "code",
   "execution_count": 1,
   "metadata": {},
   "outputs": [],
   "source": [
    "import pandas as pd\n",
    "import sqlite3\n",
    "from sqlalchemy import create_engine"
   ]
  },
  {
   "cell_type": "code",
   "execution_count": 33,
   "metadata": {
    "scrolled": true
   },
   "outputs": [
    {
     "name": "stdout",
     "output_type": "stream",
     "text": [
      "['ts1']\n",
      "[{'name': 'index', 'type': BIGINT(), 'nullable': True, 'default': None, 'autoincrement': 'auto', 'primary_key': 0}, {'name': 'time', 'type': DATETIME(), 'nullable': True, 'default': None, 'autoincrement': 'auto', 'primary_key': 0}]\n"
     ]
    }
   ],
   "source": [
    "# зчитуємо дані з таблиці sqlite для прогнозування\n",
    "engine = create_engine('sqlite:///ts.sqlite3', echo=False)\n",
    "sqlite_connection = engine.connect()\n",
    "\n",
    "from sqlalchemy import inspect\n",
    "inspector = inspect(engine)\n",
    "\n",
    "# Get table information\n",
    "print(inspector.get_table_names())\n",
    "\n",
    "# Get column information\n",
    "print(inspector.get_columns('ts1'))\n",
    "\n",
    "df = pd.read_sql_query(\"SELECT * from ts1\", engine)\n",
    "df\n",
    "\n",
    "sqlite_connection.close()"
   ]
  },
  {
   "cell_type": "code",
   "execution_count": 34,
   "metadata": {},
   "outputs": [],
   "source": [
    "# в таблиці sqlite дані дату у нас в текстовому форматі, тож переформатовуємо в datetime\n",
    "df['time'] = pd.to_datetime(df['time'])"
   ]
  },
  {
   "cell_type": "code",
   "execution_count": 35,
   "metadata": {},
   "outputs": [
    {
     "data": {
      "text/html": [
       "<div>\n",
       "<style scoped>\n",
       "    .dataframe tbody tr th:only-of-type {\n",
       "        vertical-align: middle;\n",
       "    }\n",
       "\n",
       "    .dataframe tbody tr th {\n",
       "        vertical-align: top;\n",
       "    }\n",
       "\n",
       "    .dataframe thead th {\n",
       "        text-align: right;\n",
       "    }\n",
       "</style>\n",
       "<table border=\"1\" class=\"dataframe\">\n",
       "  <thead>\n",
       "    <tr style=\"text-align: right;\">\n",
       "      <th></th>\n",
       "      <th>time</th>\n",
       "    </tr>\n",
       "  </thead>\n",
       "  <tbody>\n",
       "    <tr>\n",
       "      <th>0</th>\n",
       "      <td>2015-10-15</td>\n",
       "    </tr>\n",
       "    <tr>\n",
       "      <th>1</th>\n",
       "      <td>2015-10-07</td>\n",
       "    </tr>\n",
       "    <tr>\n",
       "      <th>2</th>\n",
       "      <td>2015-08-20</td>\n",
       "    </tr>\n",
       "    <tr>\n",
       "      <th>3</th>\n",
       "      <td>2015-03-31</td>\n",
       "    </tr>\n",
       "    <tr>\n",
       "      <th>4</th>\n",
       "      <td>2015-03-05</td>\n",
       "    </tr>\n",
       "    <tr>\n",
       "      <th>...</th>\n",
       "      <td>...</td>\n",
       "    </tr>\n",
       "    <tr>\n",
       "      <th>7440</th>\n",
       "      <td>2016-08-04</td>\n",
       "    </tr>\n",
       "    <tr>\n",
       "      <th>7441</th>\n",
       "      <td>2018-01-02</td>\n",
       "    </tr>\n",
       "    <tr>\n",
       "      <th>7442</th>\n",
       "      <td>2017-02-01</td>\n",
       "    </tr>\n",
       "    <tr>\n",
       "      <th>7443</th>\n",
       "      <td>2016-08-11</td>\n",
       "    </tr>\n",
       "    <tr>\n",
       "      <th>7444</th>\n",
       "      <td>2016-11-01</td>\n",
       "    </tr>\n",
       "  </tbody>\n",
       "</table>\n",
       "<p>7445 rows × 1 columns</p>\n",
       "</div>"
      ],
      "text/plain": [
       "           time\n",
       "0    2015-10-15\n",
       "1    2015-10-07\n",
       "2    2015-08-20\n",
       "3    2015-03-31\n",
       "4    2015-03-05\n",
       "...         ...\n",
       "7440 2016-08-04\n",
       "7441 2018-01-02\n",
       "7442 2017-02-01\n",
       "7443 2016-08-11\n",
       "7444 2016-11-01\n",
       "\n",
       "[7445 rows x 1 columns]"
      ]
     },
     "execution_count": 35,
     "metadata": {},
     "output_type": "execute_result"
    }
   ],
   "source": [
    "# видаляємо зайву колонку index\n",
    "df.drop(columns='index',inplace = True)\n",
    "\n"
   ]
  },
  {
   "cell_type": "code",
   "execution_count": 5,
   "metadata": {},
   "outputs": [],
   "source": [
    "\n",
    "from warnings import simplefilter\n",
    "\n",
    "import numpy as np\n",
    "import pandas as pd\n",
    "\n",
    "from sktime.forecasting.arima import ARIMA, AutoARIMA\n",
    "from sktime.forecasting.base import ForecastingHorizon\n",
    "from sktime.forecasting.compose import (\n",
    "    EnsembleForecaster,\n",
    "    MultiplexForecaster,\n",
    "    TransformedTargetForecaster,\n",
    "    make_reduction,\n",
    ")\n",
    "from sktime.forecasting.exp_smoothing import ExponentialSmoothing\n",
    "from sktime.forecasting.model_evaluation import evaluate\n",
    "from sktime.forecasting.model_selection import (\n",
    "    ExpandingWindowSplitter,\n",
    "    ForecastingGridSearchCV,\n",
    "    SlidingWindowSplitter,\n",
    "    temporal_train_test_split,\n",
    ")\n",
    "from sktime.forecasting.naive import NaiveForecaster\n",
    "from sktime.forecasting.theta import ThetaForecaster\n",
    "from sktime.forecasting.trend import PolynomialTrendForecaster\n",
    "from sktime.performance_metrics.forecasting import (\n",
    "    MeanAbsolutePercentageError,\n",
    "    mean_absolute_percentage_error,\n",
    ")\n",
    "from sktime.transformations.series.detrend import Deseasonalizer, Detrender\n",
    "from sktime.utils.plotting import plot_series\n",
    "from sktime.forecasting.bats import BATS\n",
    "from sktime.forecasting.tbats import TBATS\n",
    "\n",
    "simplefilter(\"ignore\", FutureWarning)\n",
    "%matplotlib inline"
   ]
  },
  {
   "cell_type": "code",
   "execution_count": 18,
   "metadata": {},
   "outputs": [],
   "source": [
    "# зрізаємо нерелеватний період\n",
    "#df = df[df.time.dt.year>2015]"
   ]
  },
  {
   "cell_type": "code",
   "execution_count": 36,
   "metadata": {},
   "outputs": [],
   "source": [
    "# перетворюємо дату у формат періоду та підраховуємо кількість подій у цьому періоді\n",
    "ts1 = df.resample('M',on='time').count()"
   ]
  },
  {
   "cell_type": "code",
   "execution_count": 37,
   "metadata": {},
   "outputs": [],
   "source": [
    "# першій та останній період скоріш за все будуть неповними, можливо, це буде впливати на прогноз,можливо,ні, але на графіку\n",
    "# буде виглядати обрубано, тому їх видаляємо\n",
    "ts1 = ts1[:-1]\n",
    "ts1 = ts1[1:]\n"
   ]
  },
  {
   "cell_type": "code",
   "execution_count": 38,
   "metadata": {},
   "outputs": [],
   "source": [
    "# resample ставить дату в індекс, але переформатовує дату на об'єкт,переводимо індекс знову в формат періоду\n",
    "# та зберігаємо в зміній y\n",
    "ts1.index = ts1.index.to_period()\n",
    "y = ts1.time\n",
    "# для горизонта передбачення краще використати щось типу max_date минус декілька періодів, а не абсолютну дату, ДОРОБИТИ\n",
    "max_date = max(ts1.index).strftime('%Y-%m-%d')\n"
   ]
  },
  {
   "cell_type": "code",
   "execution_count": 48,
   "metadata": {},
   "outputs": [],
   "source": [
    "fh = ForecastingHorizon(\n",
    "    pd.PeriodIndex(pd.date_range('2018-09', periods=12, freq=\"M\")), is_relative=False\n",
    " )"
   ]
  },
  {
   "cell_type": "code",
   "execution_count": 49,
   "metadata": {},
   "outputs": [],
   "source": [
    "\n",
    "def prediction_table(y,forecaster,fh,method):\n",
    "    forecaster.fit(y)\n",
    "    y_pred = forecaster.predict(fh)\n",
    "    y_er = y['2018-09-01':]\n",
    "    max_y = max(y.index).strftime('%Y-%m-%d')\n",
    "    pred_err = y_pred['2018-09-01':max_y]\n",
    "    y_pred.index = y_pred.index.to_timestamp()\n",
    "    pred = pd.DataFrame(y_pred).reset_index()\n",
    "    pred['method']=method\n",
    "    pred['MAPE']=mean_absolute_percentage_error(y_er, pred_err)\n",
    "    pred.columns=[['date','value','method','MAPE']]\n",
    "    return pred\n",
    "    \n",
    "#mean_absolute_percentage_error(y_pred, y)"
   ]
  },
  {
   "cell_type": "code",
   "execution_count": 42,
   "metadata": {},
   "outputs": [],
   "source": [
    "forecaster = ExponentialSmoothing(trend=\"add\", seasonal=\"additive\", sp=12)"
   ]
  },
  {
   "cell_type": "code",
   "execution_count": 44,
   "metadata": {},
   "outputs": [
    {
     "data": {
      "text/plain": [
       "ExponentialSmoothing(seasonal='additive', sp=12, trend='add')"
      ]
     },
     "execution_count": 44,
     "metadata": {},
     "output_type": "execute_result"
    }
   ],
   "source": [
    "forecaster.fit(y)"
   ]
  },
  {
   "cell_type": "code",
   "execution_count": 50,
   "metadata": {},
   "outputs": [],
   "source": [
    "pred1 = prediction_table(y,forecaster,fh,'ExponentialSmoothing')"
   ]
  },
  {
   "cell_type": "code",
   "execution_count": 51,
   "metadata": {
    "scrolled": true
   },
   "outputs": [
    {
     "name": "stderr",
     "output_type": "stream",
     "text": [
      "C:\\Users\\olga\\anaconda3\\lib\\site-packages\\pmdarima\\arima\\arima.py:577: UserWarning: As of version 1.5.0 'typ' is no longer a valid arg for predict. In future versions this will raise a TypeError.\n",
      "  warnings.warn(\"As of version 1.5.0 'typ' is no longer a valid \"\n"
     ]
    }
   ],
   "source": [
    "forecaster = AutoARIMA(sp=12, suppress_warnings=True)\n",
    "pred2 = prediction_table(y,forecaster,fh,'AutoARIMA')"
   ]
  },
  {
   "cell_type": "code",
   "execution_count": 52,
   "metadata": {},
   "outputs": [],
   "source": [
    "forecaster = BATS(sp=12, use_trend=True, use_box_cox=True)\n",
    "pred3 = prediction_table(y,forecaster,fh,'BATS')"
   ]
  },
  {
   "cell_type": "code",
   "execution_count": 53,
   "metadata": {},
   "outputs": [],
   "source": [
    "forecaster = EnsembleForecaster([\n",
    "    (\"ses\", ExponentialSmoothing(seasonal=\"multiplicative\", sp=12)),\n",
    "    (\"holt\", ExponentialSmoothing(trend=\"add\",  seasonal=\"multiplicative\", sp=12)),\n",
    "    (\"damped\", ExponentialSmoothing(trend=\"add\",  seasonal=\"multiplicative\", sp=12))\n",
    "])\n",
    "pred4 = prediction_table(y,forecaster,fh,'EnsembleForecaster')"
   ]
  },
  {
   "cell_type": "code",
   "execution_count": 54,
   "metadata": {},
   "outputs": [],
   "source": [
    "forecaster = TBATS(sp=12, use_trend=True, use_box_cox=True)\n",
    "pred5 = prediction_table(y,forecaster,fh,'TBATS')"
   ]
  },
  {
   "cell_type": "code",
   "execution_count": 55,
   "metadata": {},
   "outputs": [],
   "source": [
    "z = y.copy()\n",
    "z = z.to_timestamp(freq=\"M\")\n",
    "fhz = ForecastingHorizon(\n",
    "    pd.date_range('2018-09', periods=12, freq=\"M\"), is_relative=False\n",
    " )"
   ]
  },
  {
   "cell_type": "code",
   "execution_count": 56,
   "metadata": {},
   "outputs": [],
   "source": [
    "from sktime.forecasting.fbprophet import Prophet\n",
    "forecaster = Prophet(\n",
    "    seasonality_mode=\"multiplicative\",\n",
    "    n_changepoints=int(len(y) / 8),\n",
    "    add_country_holidays={\"country_name\": \"Ukraine\"},\n",
    "    yearly_seasonality=True,\n",
    "    weekly_seasonality=False,\n",
    "    daily_seasonality=True,\n",
    ")\n",
    "forecaster.fit(z)\n",
    "y_pred = forecaster.predict(fhz)"
   ]
  },
  {
   "cell_type": "code",
   "execution_count": 59,
   "metadata": {},
   "outputs": [
    {
     "data": {
      "text/html": [
       "<div>\n",
       "<style scoped>\n",
       "    .dataframe tbody tr th:only-of-type {\n",
       "        vertical-align: middle;\n",
       "    }\n",
       "\n",
       "    .dataframe tbody tr th {\n",
       "        vertical-align: top;\n",
       "    }\n",
       "\n",
       "    .dataframe thead tr th {\n",
       "        text-align: left;\n",
       "    }\n",
       "</style>\n",
       "<table border=\"1\" class=\"dataframe\">\n",
       "  <thead>\n",
       "    <tr>\n",
       "      <th></th>\n",
       "      <th>date</th>\n",
       "      <th>value</th>\n",
       "      <th>method</th>\n",
       "      <th>MAPE</th>\n",
       "    </tr>\n",
       "  </thead>\n",
       "  <tbody>\n",
       "    <tr>\n",
       "      <th>0</th>\n",
       "      <td>2018-09-30</td>\n",
       "      <td>210.946563</td>\n",
       "      <td>Prophet</td>\n",
       "      <td>0.06639</td>\n",
       "    </tr>\n",
       "    <tr>\n",
       "      <th>1</th>\n",
       "      <td>2018-10-31</td>\n",
       "      <td>212.506937</td>\n",
       "      <td>Prophet</td>\n",
       "      <td>0.06639</td>\n",
       "    </tr>\n",
       "    <tr>\n",
       "      <th>2</th>\n",
       "      <td>2018-11-30</td>\n",
       "      <td>215.336974</td>\n",
       "      <td>Prophet</td>\n",
       "      <td>0.06639</td>\n",
       "    </tr>\n",
       "    <tr>\n",
       "      <th>3</th>\n",
       "      <td>2018-12-31</td>\n",
       "      <td>200.107658</td>\n",
       "      <td>Prophet</td>\n",
       "      <td>0.06639</td>\n",
       "    </tr>\n",
       "    <tr>\n",
       "      <th>4</th>\n",
       "      <td>2019-01-31</td>\n",
       "      <td>195.805244</td>\n",
       "      <td>Prophet</td>\n",
       "      <td>0.06639</td>\n",
       "    </tr>\n",
       "    <tr>\n",
       "      <th>5</th>\n",
       "      <td>2019-02-28</td>\n",
       "      <td>167.052748</td>\n",
       "      <td>Prophet</td>\n",
       "      <td>0.06639</td>\n",
       "    </tr>\n",
       "    <tr>\n",
       "      <th>6</th>\n",
       "      <td>2019-03-31</td>\n",
       "      <td>179.260638</td>\n",
       "      <td>Prophet</td>\n",
       "      <td>0.06639</td>\n",
       "    </tr>\n",
       "    <tr>\n",
       "      <th>7</th>\n",
       "      <td>2019-04-30</td>\n",
       "      <td>229.272319</td>\n",
       "      <td>Prophet</td>\n",
       "      <td>0.06639</td>\n",
       "    </tr>\n",
       "    <tr>\n",
       "      <th>8</th>\n",
       "      <td>2019-05-31</td>\n",
       "      <td>286.023388</td>\n",
       "      <td>Prophet</td>\n",
       "      <td>0.06639</td>\n",
       "    </tr>\n",
       "    <tr>\n",
       "      <th>9</th>\n",
       "      <td>2019-06-30</td>\n",
       "      <td>225.717892</td>\n",
       "      <td>Prophet</td>\n",
       "      <td>0.06639</td>\n",
       "    </tr>\n",
       "    <tr>\n",
       "      <th>10</th>\n",
       "      <td>2019-07-31</td>\n",
       "      <td>272.976885</td>\n",
       "      <td>Prophet</td>\n",
       "      <td>0.06639</td>\n",
       "    </tr>\n",
       "    <tr>\n",
       "      <th>11</th>\n",
       "      <td>2019-08-31</td>\n",
       "      <td>224.447727</td>\n",
       "      <td>Prophet</td>\n",
       "      <td>0.06639</td>\n",
       "    </tr>\n",
       "  </tbody>\n",
       "</table>\n",
       "</div>"
      ],
      "text/plain": [
       "         date       value   method     MAPE\n",
       "0  2018-09-30  210.946563  Prophet  0.06639\n",
       "1  2018-10-31  212.506937  Prophet  0.06639\n",
       "2  2018-11-30  215.336974  Prophet  0.06639\n",
       "3  2018-12-31  200.107658  Prophet  0.06639\n",
       "4  2019-01-31  195.805244  Prophet  0.06639\n",
       "5  2019-02-28  167.052748  Prophet  0.06639\n",
       "6  2019-03-31  179.260638  Prophet  0.06639\n",
       "7  2019-04-30  229.272319  Prophet  0.06639\n",
       "8  2019-05-31  286.023388  Prophet  0.06639\n",
       "9  2019-06-30  225.717892  Prophet  0.06639\n",
       "10 2019-07-31  272.976885  Prophet  0.06639\n",
       "11 2019-08-31  224.447727  Prophet  0.06639"
      ]
     },
     "execution_count": 59,
     "metadata": {},
     "output_type": "execute_result"
    }
   ],
   "source": [
    "pr_prophet = pd.DataFrame(y_pred).reset_index()\n",
    "pr_prophet['ds'] = pd.to_datetime(pr_prophet['ds'])\n",
    "pr_prophet['method']='Prophet'\n",
    "z_er = z['2018-09':]\n",
    "max_z = max(z.index).strftime('%Y-%m-%d')\n",
    "pred_err = y_pred['2018-09':max_z]\n",
    "pr_prophet['MAPE']=mean_absolute_percentage_error(z_er, pred_err)\n",
    "pr_prophet.columns=[['date','value','method','MAPE']]\n",
    "pr_prophet"
   ]
  },
  {
   "cell_type": "code",
   "execution_count": 61,
   "metadata": {},
   "outputs": [
    {
     "data": {
      "text/html": [
       "<div>\n",
       "<style scoped>\n",
       "    .dataframe tbody tr th:only-of-type {\n",
       "        vertical-align: middle;\n",
       "    }\n",
       "\n",
       "    .dataframe tbody tr th {\n",
       "        vertical-align: top;\n",
       "    }\n",
       "\n",
       "    .dataframe thead tr th {\n",
       "        text-align: left;\n",
       "    }\n",
       "</style>\n",
       "<table border=\"1\" class=\"dataframe\">\n",
       "  <thead>\n",
       "    <tr>\n",
       "      <th></th>\n",
       "      <th>MAPE</th>\n",
       "      <th>date</th>\n",
       "      <th>method</th>\n",
       "      <th>value</th>\n",
       "    </tr>\n",
       "  </thead>\n",
       "  <tbody>\n",
       "    <tr>\n",
       "      <th>0</th>\n",
       "      <td>NaN</td>\n",
       "      <td>2015-01-01</td>\n",
       "      <td>fact</td>\n",
       "      <td>11.000000</td>\n",
       "    </tr>\n",
       "    <tr>\n",
       "      <th>1</th>\n",
       "      <td>NaN</td>\n",
       "      <td>2015-02-01</td>\n",
       "      <td>fact</td>\n",
       "      <td>27.000000</td>\n",
       "    </tr>\n",
       "    <tr>\n",
       "      <th>2</th>\n",
       "      <td>NaN</td>\n",
       "      <td>2015-03-01</td>\n",
       "      <td>fact</td>\n",
       "      <td>41.000000</td>\n",
       "    </tr>\n",
       "    <tr>\n",
       "      <th>3</th>\n",
       "      <td>NaN</td>\n",
       "      <td>2015-04-01</td>\n",
       "      <td>fact</td>\n",
       "      <td>40.000000</td>\n",
       "    </tr>\n",
       "    <tr>\n",
       "      <th>4</th>\n",
       "      <td>NaN</td>\n",
       "      <td>2015-05-01</td>\n",
       "      <td>fact</td>\n",
       "      <td>49.000000</td>\n",
       "    </tr>\n",
       "    <tr>\n",
       "      <th>...</th>\n",
       "      <td>...</td>\n",
       "      <td>...</td>\n",
       "      <td>...</td>\n",
       "      <td>...</td>\n",
       "    </tr>\n",
       "    <tr>\n",
       "      <th>7</th>\n",
       "      <td>0.06639</td>\n",
       "      <td>2019-04-30</td>\n",
       "      <td>Prophet</td>\n",
       "      <td>229.272319</td>\n",
       "    </tr>\n",
       "    <tr>\n",
       "      <th>8</th>\n",
       "      <td>0.06639</td>\n",
       "      <td>2019-05-31</td>\n",
       "      <td>Prophet</td>\n",
       "      <td>286.023388</td>\n",
       "    </tr>\n",
       "    <tr>\n",
       "      <th>9</th>\n",
       "      <td>0.06639</td>\n",
       "      <td>2019-06-30</td>\n",
       "      <td>Prophet</td>\n",
       "      <td>225.717892</td>\n",
       "    </tr>\n",
       "    <tr>\n",
       "      <th>10</th>\n",
       "      <td>0.06639</td>\n",
       "      <td>2019-07-31</td>\n",
       "      <td>Prophet</td>\n",
       "      <td>272.976885</td>\n",
       "    </tr>\n",
       "    <tr>\n",
       "      <th>11</th>\n",
       "      <td>0.06639</td>\n",
       "      <td>2019-08-31</td>\n",
       "      <td>Prophet</td>\n",
       "      <td>224.447727</td>\n",
       "    </tr>\n",
       "  </tbody>\n",
       "</table>\n",
       "<p>122 rows × 4 columns</p>\n",
       "</div>"
      ],
      "text/plain": [
       "       MAPE       date   method       value\n",
       "0       NaN 2015-01-01     fact   11.000000\n",
       "1       NaN 2015-02-01     fact   27.000000\n",
       "2       NaN 2015-03-01     fact   41.000000\n",
       "3       NaN 2015-04-01     fact   40.000000\n",
       "4       NaN 2015-05-01     fact   49.000000\n",
       "..      ...        ...      ...         ...\n",
       "7   0.06639 2019-04-30  Prophet  229.272319\n",
       "8   0.06639 2019-05-31  Prophet  286.023388\n",
       "9   0.06639 2019-06-30  Prophet  225.717892\n",
       "10  0.06639 2019-07-31  Prophet  272.976885\n",
       "11  0.06639 2019-08-31  Prophet  224.447727\n",
       "\n",
       "[122 rows x 4 columns]"
      ]
     },
     "execution_count": 61,
     "metadata": {},
     "output_type": "execute_result"
    }
   ],
   "source": [
    "#y.index = y.index.to_timestamp()\n",
    "\n",
    "fact = pd.DataFrame(y)\n",
    "fact.rename(columns={'time':'val'},inplace=True)\n",
    "\n",
    "fact.reset_index(inplace=True)\n",
    "\n",
    "fact['method']='fact'\n",
    "\n",
    "fact.columns=[['date','value','method']]\n",
    "\n",
    "full = pd.concat([fact,pred1,pred2,pred3,pred4,pred5,pr_prophet])\n",
    "\n",
    "full"
   ]
  },
  {
   "cell_type": "code",
   "execution_count": 62,
   "metadata": {},
   "outputs": [],
   "source": [
    "# запис у таблицю\n",
    "sqlite_connection = engine.connect()\n",
    "sqlite_table = \"ts_pred\"\n",
    "full.to_sql(sqlite_table, sqlite_connection, if_exists='replace')\n",
    "sqlite_connection.close()"
   ]
  },
  {
   "cell_type": "code",
   "execution_count": null,
   "metadata": {},
   "outputs": [],
   "source": []
  }
 ],
 "metadata": {
  "kernelspec": {
   "display_name": "Python 3",
   "language": "python",
   "name": "python3"
  },
  "language_info": {
   "codemirror_mode": {
    "name": "ipython",
    "version": 3
   },
   "file_extension": ".py",
   "mimetype": "text/x-python",
   "name": "python",
   "nbconvert_exporter": "python",
   "pygments_lexer": "ipython3",
   "version": "3.8.5"
  }
 },
 "nbformat": 4,
 "nbformat_minor": 4
}
